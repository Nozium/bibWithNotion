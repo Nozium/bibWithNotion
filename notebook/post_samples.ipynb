{
 "cells": [
  {
   "cell_type": "code",
   "execution_count": 1,
   "metadata": {},
   "outputs": [],
   "source": [
    "# MOVE TO PROJECT ROOT\n",
    "import os\n",
    "import json\n",
    "currant = os.path.basename(os.getcwd())\n",
    "if currant == \"notebook\":\n",
    "    os.chdir(\"..\")\n",
    "    currant = os.path.basename(os.getcwd())"
   ]
  },
  {
   "cell_type": "code",
   "execution_count": 2,
   "metadata": {},
   "outputs": [],
   "source": [
    "# load therd pirty lib\n",
    "import requests"
   ]
  },
  {
   "cell_type": "code",
   "execution_count": 3,
   "metadata": {},
   "outputs": [],
   "source": [
    "## load personal lib\n",
    "import  modules.config as CONFIG\n",
    "from modules.notionCommunicator import NotionCommunicator"
   ]
  },
  {
   "cell_type": "markdown",
   "metadata": {},
   "source": [
    "## test_connection"
   ]
  },
  {
   "cell_type": "code",
   "execution_count": 4,
   "metadata": {},
   "outputs": [],
   "source": [
    "# test connection \n",
    "database_root = \"https://api.notion.com/v1/databases/\"\n",
    "header = {\"Authorization\":CONFIG.NOTION_API_KEY,\"Notion-Version\":\"2022-06-28\"}"
   ]
  },
  {
   "cell_type": "code",
   "execution_count": 5,
   "metadata": {},
   "outputs": [],
   "source": [
    "response = requests.get(database_root + CONFIG.NOTION_DB_ID, headers=header)"
   ]
  },
  {
   "cell_type": "code",
   "execution_count": 6,
   "metadata": {},
   "outputs": [],
   "source": [
    "db_scheme = response.json()"
   ]
  },
  {
   "cell_type": "code",
   "execution_count": 8,
   "metadata": {},
   "outputs": [
    {
     "name": "stdout",
     "output_type": "stream",
     "text": [
      "dict_keys(['object', 'id', 'cover', 'icon', 'created_time', 'created_by', 'last_edited_by', 'last_edited_time', 'title', 'description', 'is_inline', 'properties', 'parent', 'url', 'archived'])\n",
      "dict_keys(['doi', 'abstruct', 'year', 'bibtext', 'Tags', 'memo', 'status', 'price', 'title'])\n"
     ]
    }
   ],
   "source": [
    "print(db_scheme.keys())\n",
    "print(db_scheme[\"properties\"].keys())"
   ]
  },
  {
   "cell_type": "markdown",
   "metadata": {},
   "source": [
    "## test get row data from databases and insert sample data"
   ]
  },
  {
   "cell_type": "code",
   "execution_count": 18,
   "metadata": {},
   "outputs": [],
   "source": [
    "\n",
    "def readDatabase(databaseId, headers):\n",
    "    readUrl = f\"https://api.notion.com/v1/databases/{databaseId}/query\"\n",
    "\n",
    "    res = requests.request(\"POST\", readUrl, headers=headers)\n",
    "    data = res.json()\n",
    "    print(res.status_code)\n",
    "    # print(res.text)\n",
    "    return data\n",
    "    # with open(\"./db.json\", \"w\", encoding=\"utf8\") as f:\n",
    "    #     json.dump(data, f, ensure_ascii=False)"
   ]
  },
  {
   "cell_type": "code",
   "execution_count": 19,
   "metadata": {},
   "outputs": [
    {
     "name": "stdout",
     "output_type": "stream",
     "text": [
      "200\n"
     ]
    }
   ],
   "source": [
    "db_data = readDatabase(databaseId=CONFIG.NOTION_DB_ID,headers=header)"
   ]
  },
  {
   "cell_type": "code",
   "execution_count": 41,
   "metadata": {},
   "outputs": [],
   "source": [
    "# test insert data\n",
    "post_child_page = \"https://api.notion.com/v1/pages/\"\n",
    "header = {\"Authorization\":CONFIG.NOTION_API_KEY,\"Notion-Version\":\"2022-06-28\",\"Content-Type\": \"application/json\"}\n",
    "test_bib_data = {\n",
    "    \"parent\": {\n",
    "        \"database_id\": CONFIG.NOTION_DB_ID\n",
    "    },\n",
    "    \"properties\": {\n",
    "        \"title\": {\n",
    "            \"title\": [\n",
    "                {\n",
    "                    \"text\": {\n",
    "                        \"content\": \"TestBIBData\"\n",
    "                    }\n",
    "                }\n",
    "            ]\n",
    "        },\n",
    "    }\n",
    "}"
   ]
  },
  {
   "cell_type": "code",
   "execution_count": 42,
   "metadata": {},
   "outputs": [],
   "source": [
    "response = requests.post(post_child_page, headers=header,data=json.dumps(test_bib_data))"
   ]
  },
  {
   "cell_type": "code",
   "execution_count": 43,
   "metadata": {},
   "outputs": [
    {
     "data": {
      "text/plain": [
       "{'object': 'page',\n",
       " 'id': '79919963-d4b4-4f40-91ef-a849ca6afd15',\n",
       " 'created_time': '2022-10-21T09:35:00.000Z',\n",
       " 'last_edited_time': '2022-10-21T09:35:00.000Z',\n",
       " 'created_by': {'object': 'user',\n",
       "  'id': '3317ba6d-ee37-4544-b017-6fb02c4dbf0c'},\n",
       " 'last_edited_by': {'object': 'user',\n",
       "  'id': '3317ba6d-ee37-4544-b017-6fb02c4dbf0c'},\n",
       " 'cover': None,\n",
       " 'icon': None,\n",
       " 'parent': {'type': 'database_id',\n",
       "  'database_id': 'd111c4c4-dd55-4685-ae66-8d7d6064484f'},\n",
       " 'archived': False,\n",
       " 'properties': {'doi': {'id': '%3CTEF', 'type': 'rich_text', 'rich_text': []},\n",
       "  'abstruct': {'id': '%3D%3ExY', 'type': 'rich_text', 'rich_text': []},\n",
       "  'year': {'id': 'BOa_', 'type': 'number', 'number': None},\n",
       "  'bibtext': {'id': 'Fr%40Q', 'type': 'rich_text', 'rich_text': []},\n",
       "  'Tags': {'id': 'cVDW', 'type': 'multi_select', 'multi_select': []},\n",
       "  'memo': {'id': 'drCF', 'type': 'rich_text', 'rich_text': []},\n",
       "  'status': {'id': 'eYf%40', 'type': 'status', 'status': None},\n",
       "  'price': {'id': '%7CQOH', 'type': 'number', 'number': None},\n",
       "  'title': {'id': 'title',\n",
       "   'type': 'title',\n",
       "   'title': [{'type': 'text',\n",
       "     'text': {'content': 'TestBIBData', 'link': None},\n",
       "     'annotations': {'bold': False,\n",
       "      'italic': False,\n",
       "      'strikethrough': False,\n",
       "      'underline': False,\n",
       "      'code': False,\n",
       "      'color': 'default'},\n",
       "     'plain_text': 'TestBIBData',\n",
       "     'href': None}]}},\n",
       " 'url': 'https://www.notion.so/TestBIBData-79919963d4b44f4091efa849ca6afd15'}"
      ]
     },
     "execution_count": 43,
     "metadata": {},
     "output_type": "execute_result"
    }
   ],
   "source": [
    "response.json()"
   ]
  }
 ],
 "metadata": {
  "kernelspec": {
   "display_name": "Python 3.9.2 ('bibWithNotion': venv)",
   "language": "python",
   "name": "python3"
  },
  "language_info": {
   "codemirror_mode": {
    "name": "ipython",
    "version": 3
   },
   "file_extension": ".py",
   "mimetype": "text/x-python",
   "name": "python",
   "nbconvert_exporter": "python",
   "pygments_lexer": "ipython3",
   "version": "3.9.2"
  },
  "orig_nbformat": 4,
  "vscode": {
   "interpreter": {
    "hash": "85c529175306853b40fd3058c981c61986c22dbeb5261c15001f462154be5ac7"
   }
  }
 },
 "nbformat": 4,
 "nbformat_minor": 2
}
