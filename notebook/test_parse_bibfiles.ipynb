{
 "cells": [
  {
   "cell_type": "code",
   "execution_count": 1,
   "metadata": {},
   "outputs": [],
   "source": [
    "# MOVE TO PROJECT ROOT\n",
    "import os\n",
    "import json\n",
    "currant = os.path.basename(os.getcwd())\n",
    "if currant == \"notebook\":\n",
    "    os.chdir(\"..\")\n",
    "    currant = os.path.basename(os.getcwd())"
   ]
  },
  {
   "cell_type": "code",
   "execution_count": 2,
   "metadata": {},
   "outputs": [],
   "source": [
    "## load third party lib\n"
   ]
  },
  {
   "cell_type": "code",
   "execution_count": 3,
   "metadata": {},
   "outputs": [],
   "source": [
    "## load personal lib\n",
    "from models.connectedPaper import ConnectedPaper"
   ]
  },
  {
   "cell_type": "code",
   "execution_count": 5,
   "metadata": {},
   "outputs": [],
   "source": [
    "## set static verchar for sample load test\n",
    "TEST_FILE = \"./samples/CP_1032000armAccelerationDatasetInTheUKBiobankRevealedALandscapeOfHumanSleepPhenotypes.bib\""
   ]
  },
  {
   "cell_type": "code",
   "execution_count": 12,
   "metadata": {},
   "outputs": [],
   "source": [
    "bibfile = TEST_FILE\n",
    "with open(bibfile,\"r\",encoding=\"utf-8\") as f:\n",
    "    biblists = f.readlines()"
   ]
  },
  {
   "cell_type": "code",
   "execution_count": 30,
   "metadata": {},
   "outputs": [],
   "source": [
    "import pprint\n",
    "bibs =[]\n",
    "# TODO : detect @ as split signal\n",
    "at_idx = [i for i,b in enumerate(biblists) if \"@\" in b]\n",
    "range_idx = [[idx,at_idx[i+1]] for i,idx in enumerate(at_idx[:-1])]\n",
    "\n",
    "# TODO : convert key = {value} → {key:value}\n",
    "for r_ in range_idx:\n",
    "    raw_bib = biblists[r_[0]+1:r_[1]]\n",
    "    dict_bib = {}\n",
    "    for bibstr in raw_bib:\n",
    "        if len(bibstr)== 0 : continue\n",
    "        bib_keyvalues = bibstr.split(\" \")\n",
    "        k = bib_keyvalues[0]\n",
    "        v = bib_keyvalues[-1][1:-3]\n",
    "        if k in['\\n','}\\n']:continue\n",
    "        if v.isdecimal():\n",
    "            v = int(v)\n",
    "        dict_bib.update({k:v})\n",
    "    # pprint.pprint(dict_bib)\n",
    "    bibs.append(dict_bib)"
   ]
  },
  {
   "cell_type": "code",
   "execution_count": 31,
   "metadata": {},
   "outputs": [
    {
     "name": "stdout",
     "output_type": "stream",
     "text": [
      "{'abstract': 'isorders.',\n",
      " 'author': 'eda',\n",
      " 'doi': '10.1073/pnas.2116729119',\n",
      " 'pmid': 35302893,\n",
      " 'title': 'henotypes',\n",
      " 'url': 'https://www.semanticscholar.org/paper/29fb2d29f570b3ce92097f85a9e42a9d0603d974',\n",
      " 'year': 2022}\n"
     ]
    }
   ],
   "source": [
    "pprint.pprint(bibs[0])"
   ]
  },
  {
   "cell_type": "code",
   "execution_count": null,
   "metadata": {},
   "outputs": [],
   "source": []
  }
 ],
 "metadata": {
  "kernelspec": {
   "display_name": "Python 3.9.7 64-bit",
   "language": "python",
   "name": "python3"
  },
  "language_info": {
   "codemirror_mode": {
    "name": "ipython",
    "version": 3
   },
   "file_extension": ".py",
   "mimetype": "text/x-python",
   "name": "python",
   "nbconvert_exporter": "python",
   "pygments_lexer": "ipython3",
   "version": "3.9.7"
  },
  "orig_nbformat": 4,
  "vscode": {
   "interpreter": {
    "hash": "b0fa6594d8f4cbf19f97940f81e996739fb7646882a419484c72d19e05852a7e"
   }
  }
 },
 "nbformat": 4,
 "nbformat_minor": 2
}
